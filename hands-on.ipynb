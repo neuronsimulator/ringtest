{
 "cells": [
  {
   "cell_type": "code",
   "execution_count": null,
   "id": "702781df-636a-40fe-aa5a-e638c2b3fd24",
   "metadata": {},
   "outputs": [],
   "source": [
    "import math\n",
    "import matplotlib.pyplot as plt\n",
    "import numpy as np"
   ]
  },
  {
   "cell_type": "markdown",
   "id": "6857c0f7-e65a-4bd7-a292-832a6d2546b1",
   "metadata": {},
   "source": [
    "Hands-on with the ring test model\n",
    "=================================\n",
    "\n",
    "This notebook is meant to provide the building blocks for exploring the performance impacts of various NEURON and CoreNEURON options, using the ring test model (`ringtest.py`).\n",
    "\n",
    "This model uses a custom MOD file (`halfgap.mod`), so we must start by building `special` using it:"
   ]
  },
  {
   "cell_type": "code",
   "execution_count": null,
   "id": "99301d43-5710-4512-a826-6f78cbd52b74",
   "metadata": {},
   "outputs": [],
   "source": [
    "!nrnivmodl mod"
   ]
  },
  {
   "cell_type": "markdown",
   "id": "fd77f4ec-2a51-4baf-8f66-2b048d3781c3",
   "metadata": {},
   "source": [
    "Now we can run the `ringtest.py` script, passing any options we want to:"
   ]
  },
  {
   "cell_type": "code",
   "execution_count": null,
   "id": "b7099258-6377-4960-a8f0-bfc95c3e89a7",
   "metadata": {},
   "outputs": [],
   "source": [
    "!x86_64/special -python ringtest.py -nt 1"
   ]
  },
  {
   "cell_type": "markdown",
   "id": "c7ae245a-ae6b-4a3e-9f59-8969f54a9ce1",
   "metadata": {},
   "source": [
    "The above command executed in around 0.2s on the author's machine.\n",
    "**Is that good?** *The author has no idea...*\n",
    "\n",
    "Typically when examining the performance of a new model, or an existing model on a new system, or indeed a change in software version, we need to look at trends and comparisons.\n",
    "\n",
    "To illustrate this, we will run the same model using different numbers of CPU threads.\n",
    "This is steered by the `-nt` option to `ringtest.py`."
   ]
  },
  {
   "cell_type": "code",
   "execution_count": null,
   "id": "0479299b-a7df-418e-ba76-6402d783ae1c",
   "metadata": {},
   "outputs": [],
   "source": [
    "def ringtest(*args, mpi=None, repeat=3):\n",
    "    \"\"\"TODO: update ringtest.py to write these somewhere and avoid regexing\"\"\"\n",
    "    import re\n",
    "    from subprocess import check_output, STDOUT\n",
    "\n",
    "    def run():\n",
    "        cmd = []\n",
    "        if mpi is not None:\n",
    "            cmd += [\"mpiexec\", \"-n\", str(mpi)]\n",
    "        cmd.append(\"./x86_64/special\")\n",
    "        if mpi is not None:\n",
    "            cmd.append(\"-mpi\")\n",
    "        cmd += [\"-python\", \"ringtest.py\"]\n",
    "        cmd += [str(x) for x in args]\n",
    "        out = check_output(\n",
    "            cmd,\n",
    "            shell=False,\n",
    "            stderr=STDOUT,\n",
    "            text=True,\n",
    "        )\n",
    "        m = re.search(\"runtime=([0-9\\.]+)\", out)\n",
    "        assert m\n",
    "        return {\n",
    "            \"runtime\": float(m.group(1)),\n",
    "        }\n",
    "\n",
    "    # run the measurements `repeat` times, to get a basic uncertainty estimate\n",
    "    data = [run() for _ in range(repeat)]\n",
    "    return {k: np.array([d[k] for d in data]) for k in data[0].keys()}\n",
    "\n",
    "\n",
    "def pows_of_2(max):\n",
    "    \"\"\"Given a power of 2 (e.g. 16) return all powers of 2 from 1 to there.\n",
    "\n",
    "    e.g. pows_of_2(16) -> [1, 2, 4, 8, 16].\"\"\"\n",
    "    return [2**n for n in range(int(math.log2(max)) + 1)]\n",
    "\n",
    "\n",
    "# Save performance data for several different thread counts from 1 to 16\n",
    "thread_data = {\n",
    "    \"data\": {nt: ringtest(\"-nt\", nt) for nt in pows_of_2(max=16)},\n",
    "    \"label\": \"Thread parallelism\",\n",
    "}"
   ]
  },
  {
   "cell_type": "markdown",
   "id": "23048b33-7f6e-4657-82b1-1ad03de35060",
   "metadata": {},
   "source": [
    "Now we have gathered the simulation runtimes for different thread values, we can plot these:"
   ]
  },
  {
   "cell_type": "code",
   "execution_count": null,
   "id": "b0bf30db-ea77-45bc-baaa-afd1013db3bf",
   "metadata": {},
   "outputs": [],
   "source": [
    "def scaling_plot(data_dicts, ideal_count=8):\n",
    "    \"\"\"\n",
    "    Given a list of dicts containing scaling data, plot them on a common scale.\n",
    "    Also include an idealised scaling curve for `ideal_count` processors.\n",
    "    \"\"\"\n",
    "    plt.figure()\n",
    "    plt.xscale(\"log\", base=2)\n",
    "    plt.xlabel(\"Thread / MPI rank count\")\n",
    "    plt.ylabel(\"Simulation runtime [s]\")\n",
    "    all_x, all_y0 = set(), set()\n",
    "    for data_dict in data_dicts:\n",
    "        # e.g. one data_dict for multi-threaded measurements\n",
    "        xvals = sorted(data_dict[\"data\"].keys())\n",
    "        yvals, yerrs_low, yerrs_high = [], [], []\n",
    "        for nt in xvals:\n",
    "            runtime_measurements = data_dict[\"data\"][nt][\"runtime\"]\n",
    "            yvals.append(runtime_measurements.mean())\n",
    "            yerrs_low.append(max(0, yvals[-1] - runtime_measurements.min()))\n",
    "            yerrs_high.append(max(0, runtime_measurements.max() - yvals[-1]))\n",
    "            all_x.add(nt)\n",
    "            all_y0.add(yvals[-1])\n",
    "        plt.errorbar(\n",
    "            xvals, yvals, yerr=(yerrs_low, yerrs_high), label=data_dict[\"label\"]\n",
    "        )\n",
    "    # Also draw an idealised perfect-scaling curve for a machine with `ideal_count` cores\n",
    "    xvals = sorted(all_x)\n",
    "    plt.plot(\n",
    "        xvals,\n",
    "        max(all_y0) / np.minimum(xvals, ideal_count),\n",
    "        label=\"Ideal {} cores\".format(ideal_count),\n",
    "    )\n",
    "    plt.legend()\n",
    "    return plt.show()\n",
    "\n",
    "\n",
    "scaling_plot([thread_data])"
   ]
  },
  {
   "cell_type": "markdown",
   "id": "7ac7e599-cd2a-4445-bc6d-a8e704ab2754",
   "metadata": {},
   "source": [
    "Based on this, **how many CPU cores do you think this machine has available?**\n",
    "\n",
    "The `ringtest.py` script supports a lot of other options:"
   ]
  },
  {
   "cell_type": "code",
   "execution_count": null,
   "id": "5690ffa4-a513-4693-967c-0ea2f876a18e",
   "metadata": {},
   "outputs": [],
   "source": [
    "!x86_64/special -python ringtest.py --help"
   ]
  },
  {
   "cell_type": "markdown",
   "id": "da1e1f61-fec6-4fde-aff9-3a1e2b1d73af",
   "metadata": {},
   "source": [
    "As well as thread-based parallelism, we can also use process-based parallelism via MPI.\n",
    "In this case, we need to run `ringtest.py` using `mpiexec`.\n",
    "\n",
    "The `ringtest(...)` helper function defined above can handle this via the `mpi=X` keyword argument."
   ]
  },
  {
   "cell_type": "code",
   "execution_count": null,
   "id": "266fb77a-4c89-4baa-be46-23df861b97ec",
   "metadata": {},
   "outputs": [],
   "source": [
    "mpi_data = {\n",
    "    \"data\": {\n",
    "        num_ranks: ringtest(\"-nt\", 1, mpi=num_ranks) for num_ranks in pows_of_2(max=8)\n",
    "    },\n",
    "    \"label\": \"MPI parallelism\",\n",
    "}"
   ]
  },
  {
   "cell_type": "code",
   "execution_count": null,
   "id": "f55128f5-3c93-49c5-ba74-5519924002af",
   "metadata": {},
   "outputs": [],
   "source": [
    "scaling_plot([thread_data, mpi_data])"
   ]
  },
  {
   "cell_type": "code",
   "execution_count": null,
   "id": "c47ff4cc-5ea1-4fa7-a1c1-19db3bf1172a",
   "metadata": {},
   "outputs": [],
   "source": []
  }
 ],
 "metadata": {
  "kernelspec": {
   "display_name": "Python 3 (ipykernel)",
   "language": "python",
   "name": "python3"
  },
  "language_info": {
   "codemirror_mode": {
    "name": "ipython",
    "version": 3
   },
   "file_extension": ".py",
   "mimetype": "text/x-python",
   "name": "python",
   "nbconvert_exporter": "python",
   "pygments_lexer": "ipython3"
  }
 },
 "nbformat": 4,
 "nbformat_minor": 5
}
